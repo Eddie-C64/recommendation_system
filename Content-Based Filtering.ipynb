{
 "cells": [
  {
   "cell_type": "markdown",
   "metadata": {},
   "source": [
    "# Content Based Filtering\n",
    "Using the idea of cosine similaries in the follwoing formal is:"
   ]
  },
  {
   "cell_type": "code",
   "execution_count": 1,
   "metadata": {},
   "outputs": [],
   "source": [
    "import pandas as pd\n",
    "from sklearn.feature_extraction.text import TfidfVectorizer\n",
    "from sklearn.metrics. pairwise import linear_kernel"
   ]
  },
  {
   "cell_type": "markdown",
   "metadata": {},
   "source": [
    "# Wrangle the data"
   ]
  },
  {
   "cell_type": "code",
   "execution_count": 2,
   "metadata": {},
   "outputs": [],
   "source": [
    "data = pd.read_csv(\"system-data.csv\")"
   ]
  },
  {
   "cell_type": "code",
   "execution_count": 3,
   "metadata": {},
   "outputs": [],
   "source": [
    "tf = TfidfVectorizer(analyzer='word', ngram_range=(1,3), min_df=0, stop_words='english')\n",
    "tf_matrix = tf.fit_transform(data['description'])"
   ]
  },
  {
   "cell_type": "markdown",
   "metadata": {},
   "source": [
    "# Caculate cosine of similarities"
   ]
  },
  {
   "cell_type": "code",
   "execution_count": 12,
   "metadata": {},
   "outputs": [],
   "source": [
    "def cosine_calculate(data):\n",
    "    \n",
    "    cosine_similarties = linear_kernel(tf_matrix, tf_matrix)\n",
    "    results = {}\n",
    "    \n",
    "    for index, row in data.iterrows():\n",
    "        similar_indices = cosine_similarties[index].argsort()[:-100:-1]\n",
    "        similar_items = [(cosine_similarties[index][i], data['id'][i]) for i in similar_indices]\n",
    "        \n",
    "        results[row['id']] = similar_items[1:]\n",
    "        \n",
    "    return results\n",
    "\n",
    "\n",
    "def item(id):\n",
    "    return data.loc[data['id'] == id]['description'].tolist()[0].split(' - ')[0]\n",
    "\n",
    "def recommend_item(item_id, num):\n",
    "    print(\"Recommending \" + str(num) + \" products similar to \" + item(item_id) + \"...\")\n",
    "    print(\"-------\")\n",
    "    \n",
    "    results = cosine_calculate(data)\n",
    "    \n",
    "    recs = results[item_id][:num]\n",
    "    for rec in recs:\n",
    "        print(\"Recommended: \" + item(rec[1]) + \" (score:\" + str(rec[0]) + \")\")\n",
    "        "
   ]
  },
  {
   "cell_type": "markdown",
   "metadata": {},
   "source": [
    "# Now recommend an Item"
   ]
  },
  {
   "cell_type": "code",
   "execution_count": 13,
   "metadata": {},
   "outputs": [
    {
     "name": "stdout",
     "output_type": "stream",
     "text": [
      "Recommending 3 products similar to Baby sunshade top...\n",
      "-------\n",
      "Recommended: Sunshade hoody (score:0.21330296021085024)\n",
      "Recommended: Baby baggies apron dress (score:0.10975311296284812)\n",
      "Recommended: Runshade t-shirt (score:0.09988151262780731)\n"
     ]
    }
   ],
   "source": [
    "recommend_item(item_id=11, num=3)"
   ]
  },
  {
   "cell_type": "code",
   "execution_count": 14,
   "metadata": {},
   "outputs": [
    {
     "name": "stdout",
     "output_type": "stream",
     "text": [
      "Recommending 5 products similar to Alpine wind jkt...\n",
      "-------\n",
      "Recommended: Alpine wind jkt (score:0.9550036493156232)\n",
      "Recommended: Nine trails jkt (score:0.1830442008910172)\n",
      "Recommended: Nine trails jkt (score:0.18039926859231367)\n",
      "Recommended: Houdini full-zip jkt (score:0.1575421700227799)\n",
      "Recommended: Nine trails vest (score:0.15209799272552882)\n"
     ]
    }
   ],
   "source": [
    "recommend_item(item_id=5, num=5)"
   ]
  },
  {
   "cell_type": "code",
   "execution_count": 15,
   "metadata": {},
   "outputs": [
    {
     "name": "stdout",
     "output_type": "stream",
     "text": [
      "Recommending 2 products similar to Freewheeler...\n",
      "-------\n",
      "Recommended: Freewheeler max (score:0.6896990390184957)\n",
      "Recommended: Mlc wheelie (score:0.21279952106418648)\n"
     ]
    }
   ],
   "source": [
    "recommend_item(item_id=42, num=2)"
   ]
  },
  {
   "cell_type": "code",
   "execution_count": null,
   "metadata": {},
   "outputs": [],
   "source": []
  }
 ],
 "metadata": {
  "kernelspec": {
   "display_name": "Python 3",
   "language": "python",
   "name": "python3"
  },
  "language_info": {
   "codemirror_mode": {
    "name": "ipython",
    "version": 3
   },
   "file_extension": ".py",
   "mimetype": "text/x-python",
   "name": "python",
   "nbconvert_exporter": "python",
   "pygments_lexer": "ipython3",
   "version": "3.7.4"
  }
 },
 "nbformat": 4,
 "nbformat_minor": 4
}
